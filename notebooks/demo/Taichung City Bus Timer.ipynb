{
 "cells": [
  {
   "cell_type": "markdown",
   "metadata": {},
   "source": [
    "# Taichung City Bus Timer"
   ]
  },
  {
   "cell_type": "markdown",
   "metadata": {},
   "source": [
    "### 台中市 公車到站時刻查詢\n",
    "http://citybus.taichung.gov.tw/ibus/RealRoute.aspx"
   ]
  },
  {
   "cell_type": "code",
   "execution_count": null,
   "metadata": {
    "collapsed": true
   },
   "outputs": [],
   "source": [
    "import os\n",
    "import sys\n",
    "\n",
    "sys.path.append(os.path.abspath(os.path.join(os.path.pardir, os.path.sep.join(['..', 'codes']), 'micropython'))) "
   ]
  },
  {
   "cell_type": "code",
   "execution_count": null,
   "metadata": {},
   "outputs": [],
   "source": [
    "import config\n",
    "\n",
    "if config.IS_MICROPYTHON:\n",
    "    import urequests as requests \n",
    "else:\n",
    "    import requests as requests  "
   ]
  },
  {
   "cell_type": "code",
   "execution_count": null,
   "metadata": {
    "collapsed": true
   },
   "outputs": [],
   "source": [
    "def split_text(text):\n",
    "    text = text.split('@')[0] \n",
    "    length = len(text)\n",
    "    start = 0\n",
    "    end = 0\n",
    "    \n",
    "    while end < length - 1 and end >= 0:\n",
    "        start = text.find('|', end)\n",
    "        end = text.find('|', start + 1)\n",
    "\n",
    "        part = text[start + 1:end]\n",
    "        yield part.split(',')\n",
    "        \n",
    "        start = end  \n",
    "        \n",
    "        \n",
    "def get_ETA(schedules, bus_stop_code):\n",
    "    for schedule in schedules:\n",
    "        if schedule[2] == bus_stop_code + '_': \n",
    "            return schedule[:-1]\n",
    "        \n",
    "        \n",
    "def get_minutes_left(schedule):\n",
    "    minutes_left = schedule[0].replace('_', '')\n",
    "    if minutes_left.isdigit() and int(minutes_left) >= 0:\n",
    "        return minutes_left\n",
    "    \n",
    "\n",
    "def query_minutes_left(route_id, route_direction, bus_stop_code):\n",
    "    \n",
    "    base_url = 'http://citybus.taichung.gov.tw/ibus/RealRoute/aspx/RealRoute.ashx?Lang=Cht&BusType=0&Data=' + route_id + '_,' + route_direction\n",
    "    # url_bus_stops = base_url + '&Type=GetStop'  # 站牌名稱 編號 座標\n",
    "    url_schedules = base_url + '&Type=GetFreshData'  # 站牌編號 到站時刻 \n",
    "\n",
    "    schedules = requests.get(url_schedules).text\n",
    "    schedules = split_text(schedules)\n",
    "    schedule = get_ETA(schedules, bus_stop_code)\n",
    "    print(schedule)\n",
    "\n",
    "    return get_minutes_left(schedule)"
   ]
  },
  {
   "cell_type": "code",
   "execution_count": null,
   "metadata": {
    "collapsed": true
   },
   "outputs": [],
   "source": [
    "def query_and_show_minutes_left(route_id, route_direction, bus_stop_code):\n",
    "    minutes_left = query_minutes_left(route_id, route_direction, bus_stop_code)\n",
    "    display(minutes_left) \n",
    "    \n",
    "    \n",
    "def display(minutes_left):\n",
    "    print(minutes_left if minutes_left else 'NA')    "
   ]
  },
  {
   "cell_type": "code",
   "execution_count": null,
   "metadata": {},
   "outputs": [],
   "source": [
    "import time\n",
    "import datetime\n",
    "\n",
    "while True:\n",
    "    print(datetime.datetime.now())\n",
    "    query_and_show_minutes_left(route_id = config.route_id, \n",
    "                                route_direction = config.route_direction, \n",
    "                                bus_stop_code = config.bus_stop_code)\n",
    "    print('\\n')\n",
    "    \n",
    "    time.sleep(60 * 1)"
   ]
  }
 ],
 "metadata": {
  "kernelspec": {
   "display_name": "Python 3",
   "language": "python",
   "name": "python3"
  },
  "language_info": {
   "codemirror_mode": {
    "name": "ipython",
    "version": 3
   },
   "file_extension": ".py",
   "mimetype": "text/x-python",
   "name": "python",
   "nbconvert_exporter": "python",
   "pygments_lexer": "ipython3",
   "version": "3.5.3"
  }
 },
 "nbformat": 4,
 "nbformat_minor": 2
}
