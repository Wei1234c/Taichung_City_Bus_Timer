{
 "cells": [
  {
   "cell_type": "markdown",
   "metadata": {},
   "source": [
    "# Taichung City Bus Timer"
   ]
  },
  {
   "cell_type": "markdown",
   "metadata": {},
   "source": [
    "#### 台中市 公車到站時刻查詢\n",
    "http://citybus.taichung.gov.tw/ibus/RealRoute.aspx  \n",
    "\n",
    "#### 站牌名稱 編號 座標\n",
    "http://citybus.taichung.gov.tw/ibus/RealRoute/aspx/RealRoute.ashx?Lang=Cht&BusType=0&Data=53_,1&Type=GetStop\n",
    "\n",
    "#### 站牌編號 到站時刻 \n",
    "http://citybus.taichung.gov.tw/ibus/RealRoute/aspx/RealRoute.ashx?Lang=Cht&BusType=0&Data=53_,1&Type=GetFreshData"
   ]
  },
  {
   "cell_type": "code",
   "execution_count": null,
   "metadata": {
    "collapsed": true
   },
   "outputs": [],
   "source": [
    "import os\n",
    "import sys\n",
    "\n",
    "sys.path.append(os.path.abspath(os.path.join(os.path.pardir, os.path.sep.join(['..', 'codes']), 'micropython'))) "
   ]
  },
  {
   "cell_type": "code",
   "execution_count": null,
   "metadata": {
    "collapsed": true
   },
   "outputs": [],
   "source": [
    "import config\n",
    "\n",
    "if config.IS_MICROPYTHON:\n",
    "    import urequests as requests \n",
    "else:\n",
    "    import requests as requests  "
   ]
  },
  {
   "cell_type": "code",
   "execution_count": null,
   "metadata": {},
   "outputs": [],
   "source": [
    "# schedules = '''\n",
    "# null_,11:00_,854_|null_,11:00_,7461_|null_,11:02_,19716_|null_,11:04_,13059_|null_,11:05_,852_|\n",
    "# null_,11:07_,12795_|null_,11:08_,15498_|null_,11:09_,13061_|0_,11:14_,20730_|4_,11:18_,13297_|\n",
    "# 5_,11:19_,19634_|6_,11:20_,13274_|8_,11:22_,13280_|9_,11:23_,13126_|10_,11:25_,13278_|0_,11:26_,13128_|\n",
    "# 0_,11:27_,13117_|2_,11:28_,12549_|3_,11:29_,13266_|3_,11:30_,18746_|3_,11:31_,13277_|5_,11:32_,13296_|\n",
    "# 5_,11:33_,13312_|6_,11:33_,20806_|7_,11:34_,6386_|8_,11:36_,13271_|10_,11:38_,13273_|12_,11:39_,13269_|\n",
    "# 14_,11:41_,13267_|0_,11:42_,13298_|2_,11:44_,13256_|3_,11:45_,13270_|4_,11:47_,13268_|6_,11:49_,10994_|\n",
    "# 7_,11:50_,13279_|8_,11:51_,13272_|10_,11:52_,13119_|11_,11:54_,13276_|12_,11:55_,13121_|14_,11:57_,13340_|\n",
    "# 17_,12:00_,20519_|18_,12:01_,19407_|20_,12:03_,13191_|0_,12:05_,13123_|2_,12:06_,13199_|3_,12:07_,13141_|\n",
    "# 3_,12:08_,13085_|4_,12:10_,2819_|6_,12:12_,13235_|8_,12:13_,13079_|8_,12:14_,13077_|11_,12:17_,13075_|\n",
    "# 12_,12:18_,13315_|14_,12:19_,10083_|15_,12:20_,13195_|15_,12:21_,13193_|17_,12:22_,13149_|17_,12:23_,13066_|\n",
    "# 19_,12:24_,12590_|19_,12:25_,18089_|23_,12:29_,13101_|24_,12:29_,13181_|26_,12:31_,13071_|27_,12:32_,13197_|\n",
    "# 28_,12:33_,13099_|29_,12:34_,13155_|30_,12:35_,13249_|31_,12:36_,13147_|31_,12:37_,17936_|0_,12:38_,13245_|\n",
    "# 1_,12:39_,8108_|1_,12:40_,14034_|2_,12:40_,13247_|3_,12:41_,13185_\n",
    "# '''\n",
    "# schedules = [schedule for schedule in split_text(schedules)]\n",
    "# schedules[:3]"
   ]
  },
  {
   "cell_type": "code",
   "execution_count": null,
   "metadata": {},
   "outputs": [],
   "source": [
    "# schedules[-3:]"
   ]
  },
  {
   "cell_type": "code",
   "execution_count": null,
   "metadata": {
    "collapsed": true
   },
   "outputs": [],
   "source": [
    "def split_text(text):\n",
    "    text = text.split('@')[0]\n",
    "    length = len(text)\n",
    "    start = 0\n",
    "    end = 0\n",
    "    \n",
    "    while end < length - 1 and end >= 0:\n",
    "        end = text.find('|', start + 1)\n",
    "        part = text[start + 1:end]\n",
    "        yield part.split(',')        \n",
    "        start = end  \n",
    "        \n",
    "        \n",
    "def get_ETA(schedules, bus_stop_code):\n",
    "    for schedule in schedules:\n",
    "        if schedule[2] == bus_stop_code + '_': \n",
    "            return schedule[:-1]\n",
    "        \n",
    "        \n",
    "def get_minutes_left(schedule):\n",
    "    minutes_left = schedule[0].replace('_', '')\n",
    "    if minutes_left.isdigit() and int(minutes_left) >= 0:\n",
    "        return minutes_left\n",
    "    return '  '        \n",
    "    \n",
    "\n",
    "def query_minutes_left(route_id, route_direction, bus_stop_code):\n",
    "    \n",
    "    base_url = 'http://citybus.taichung.gov.tw/ibus/RealRoute/aspx/RealRoute.ashx?Lang=Cht&BusType=0&Data=' + route_id + '_,' + route_direction\n",
    "    # url_bus_stops = base_url + '&Type=GetStop'  # 站牌名稱 編號 座標\n",
    "    url_schedules = base_url + '&Type=GetFreshData'  # 站牌編號 到站時刻 \n",
    "    \n",
    "    resp = requests.get(url_schedules)\n",
    "    schedules = resp.text\n",
    "    schedules = split_text(schedules)\n",
    "    schedule = get_ETA(schedules, bus_stop_code)\n",
    "    print(schedule)\n",
    "\n",
    "    return resp.status_code, resp.reason, get_minutes_left(schedule)"
   ]
  },
  {
   "cell_type": "code",
   "execution_count": null,
   "metadata": {
    "collapsed": true
   },
   "outputs": [],
   "source": [
    "def query_and_show_minutes_left(route_id, route_direction, bus_stop_code):\n",
    "    minutes_left = query_minutes_left(route_id, route_direction, bus_stop_code)\n",
    "    display(minutes_left) \n",
    "    \n",
    "    \n",
    "def display(minutes_left):\n",
    "    print(minutes_left if minutes_left else 'NA')    "
   ]
  },
  {
   "cell_type": "code",
   "execution_count": null,
   "metadata": {},
   "outputs": [],
   "source": [
    "import time\n",
    "import datetime\n",
    "\n",
    "while True:\n",
    "    print(datetime.datetime.now())\n",
    "    query_and_show_minutes_left(route_id = config.route_id, \n",
    "                                route_direction = config.route_direction, \n",
    "                                bus_stop_code = config.bus_stop_code)\n",
    "    print('\\n')\n",
    "    \n",
    "    time.sleep(60 * 1)"
   ]
  },
  {
   "cell_type": "code",
   "execution_count": null,
   "metadata": {},
   "outputs": [],
   "source": [
    "# route_id = config.route_id\n",
    "# route_direction = config.route_direction \n",
    "\n",
    "# base_url = 'http://citybus.taichung.gov.tw/ibus/RealRoute/aspx/RealRoute.ashx?Lang=Cht&BusType=0&Data=' + route_id + '_,' + route_direction\n",
    "# url_bus_stops = base_url + '&Type=GetStop'  # 站牌名稱 編號 座標\n",
    "# url_schedules = base_url + '&Type=GetFreshData'  # 站牌編號 到站時刻 \n",
    "\n",
    "# print(url_bus_stops)\n",
    "# print(url_schedules)"
   ]
  }
 ],
 "metadata": {
  "kernelspec": {
   "display_name": "Python 3",
   "language": "python",
   "name": "python3"
  },
  "language_info": {
   "codemirror_mode": {
    "name": "ipython",
    "version": 3
   },
   "file_extension": ".py",
   "mimetype": "text/x-python",
   "name": "python",
   "nbconvert_exporter": "python",
   "pygments_lexer": "ipython3",
   "version": "3.5.3"
  }
 },
 "nbformat": 4,
 "nbformat_minor": 2
}
